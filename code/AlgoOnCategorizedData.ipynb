{
  "nbformat": 4,
  "nbformat_minor": 0,
  "metadata": {
    "colab": {
      "provenance": []
    },
    "kernelspec": {
      "name": "python3",
      "display_name": "Python 3"
    },
    "language_info": {
      "name": "python"
    }
  },
  "cells": [
    {
      "cell_type": "markdown",
      "source": [
        "**importing necessary libraries**"
      ],
      "metadata": {
        "id": "n68PlQ4yyRNQ"
      }
    },
    {
      "cell_type": "code",
      "execution_count": null,
      "metadata": {
        "id": "hcFqoQvDx5ON"
      },
      "outputs": [],
      "source": [
        "import pandas as pd\n",
        "import matplotlib.pyplot as plt\n",
        "import numpy as np\n",
        "from sklearn.model_selection import train_test_split\n",
        "from sklearn.linear_model import LogisticRegression\n",
        "from sklearn.ensemble import RandomForestClassifier\n",
        "from sklearn.neighbors import KNeighborsClassifier\n",
        "from sklearn.svm import SVC\n",
        "from xgboost import XGBClassifier\n",
        "from sklearn.naive_bayes import GaussianNB\n",
        "from sklearn.tree import DecisionTreeClassifier\n",
        "from sklearn.preprocessing import LabelEncoder\n",
        "from sklearn.metrics import accuracy_score, f1_score, precision_score, recall_score, confusion_matrix, classification_report\n",
        "import seaborn as sns"
      ]
    },
    {
      "cell_type": "markdown",
      "source": [
        "**loading dataset & defining features (X) and target (Y)**"
      ],
      "metadata": {
        "id": "w9JYZFVXyQm0"
      }
    },
    {
      "cell_type": "code",
      "source": [
        "file_path = '/content/SBT_categorized_dataset.csv'\n",
        "df = pd.read_csv(file_path)\n",
        "features = ['danceability', 'energy', 'key', 'loudness', 'speechiness', 'acousticness', 'instrumentalness', 'liveness', 'valence', 'tempo', 'duration', 'time_signature']\n",
        "X = df[features]\n",
        "y = df['popularity']\n",
        "X = pd.get_dummies(X)"
      ],
      "metadata": {
        "id": "HcWWzIiTyYFy"
      },
      "execution_count": null,
      "outputs": []
    },
    {
      "cell_type": "markdown",
      "source": [
        "**splitting data into training and testing sets**"
      ],
      "metadata": {
        "id": "EhbGxveTz7Vk"
      }
    },
    {
      "cell_type": "code",
      "source": [
        "X_train, X_test, y_train, y_test = train_test_split(X, y, test_size=0.2, random_state=42)"
      ],
      "metadata": {
        "id": "lIttMyEaz_ro"
      },
      "execution_count": null,
      "outputs": []
    },
    {
      "cell_type": "markdown",
      "source": [
        "**applying logistic regression**"
      ],
      "metadata": {
        "id": "kMwMR9BQ0JA4"
      }
    },
    {
      "cell_type": "code",
      "source": [
        "model = LogisticRegression(random_state = 43)\n",
        "model.fit(X_train, y_train)\n",
        "y_pred = model.predict(X_test)\n",
        "print(\"Accuracy:\", accuracy_score(y_test, y_pred))\n",
        "print(\"F1 Score:\", f1_score(y_test, y_pred, average='weighted'))\n",
        "print(\"Precision:\", precision_score(y_test, y_pred, average='weighted'))\n",
        "print(\"Recall:\", recall_score(y_test, y_pred, average='weighted'))\n",
        "print(\"\\nClassification Report:\")\n",
        "print(classification_report(y_test, y_pred))"
      ],
      "metadata": {
        "colab": {
          "base_uri": "https://localhost:8080/"
        },
        "id": "vXBk1P8F0O26",
        "outputId": "be3435bd-4f29-4580-c116-fa82c64510ed"
      },
      "execution_count": null,
      "outputs": [
        {
          "output_type": "stream",
          "name": "stdout",
          "text": [
            "Accuracy: 0.52\n",
            "F1 Score: 0.3733975441326893\n",
            "Precision: 0.38626073380171744\n",
            "Recall: 0.52\n",
            "\n",
            "Classification Report:\n",
            "                 precision    recall  f1-score   support\n",
            "\n",
            "Kind of Popular       0.33      0.02      0.05       290\n",
            "    Not Popular       0.52      0.97      0.68       460\n",
            "        Popular       0.00      0.00      0.00       112\n",
            "   Very Popular       0.00      0.00      0.00        13\n",
            "\n",
            "       accuracy                           0.52       875\n",
            "      macro avg       0.21      0.25      0.18       875\n",
            "   weighted avg       0.39      0.52      0.37       875\n",
            "\n"
          ]
        },
        {
          "output_type": "stream",
          "name": "stderr",
          "text": [
            "/usr/local/lib/python3.10/dist-packages/sklearn/linear_model/_logistic.py:458: ConvergenceWarning: lbfgs failed to converge (status=1):\n",
            "STOP: TOTAL NO. of ITERATIONS REACHED LIMIT.\n",
            "\n",
            "Increase the number of iterations (max_iter) or scale the data as shown in:\n",
            "    https://scikit-learn.org/stable/modules/preprocessing.html\n",
            "Please also refer to the documentation for alternative solver options:\n",
            "    https://scikit-learn.org/stable/modules/linear_model.html#logistic-regression\n",
            "  n_iter_i = _check_optimize_result(\n",
            "/usr/local/lib/python3.10/dist-packages/sklearn/metrics/_classification.py:1344: UndefinedMetricWarning: Precision is ill-defined and being set to 0.0 in labels with no predicted samples. Use `zero_division` parameter to control this behavior.\n",
            "  _warn_prf(average, modifier, msg_start, len(result))\n",
            "/usr/local/lib/python3.10/dist-packages/sklearn/metrics/_classification.py:1344: UndefinedMetricWarning: Precision and F-score are ill-defined and being set to 0.0 in labels with no predicted samples. Use `zero_division` parameter to control this behavior.\n",
            "  _warn_prf(average, modifier, msg_start, len(result))\n",
            "/usr/local/lib/python3.10/dist-packages/sklearn/metrics/_classification.py:1344: UndefinedMetricWarning: Precision and F-score are ill-defined and being set to 0.0 in labels with no predicted samples. Use `zero_division` parameter to control this behavior.\n",
            "  _warn_prf(average, modifier, msg_start, len(result))\n",
            "/usr/local/lib/python3.10/dist-packages/sklearn/metrics/_classification.py:1344: UndefinedMetricWarning: Precision and F-score are ill-defined and being set to 0.0 in labels with no predicted samples. Use `zero_division` parameter to control this behavior.\n",
            "  _warn_prf(average, modifier, msg_start, len(result))\n"
          ]
        }
      ]
    },
    {
      "cell_type": "markdown",
      "source": [
        "**applying random forest classifier**"
      ],
      "metadata": {
        "id": "5JOKrQ0e5-VR"
      }
    },
    {
      "cell_type": "code",
      "source": [
        "model = RandomForestClassifier(random_state = 43)\n",
        "model.fit(X_train, y_train)\n",
        "y_pred = model.predict(X_test)\n",
        "print(\"Accuracy:\", accuracy_score(y_test, y_pred))\n",
        "print(\"F1 Score:\", f1_score(y_test, y_pred, average='weighted'))\n",
        "print(\"Precision:\", precision_score(y_test, y_pred, average='weighted'))\n",
        "print(\"Recall:\", recall_score(y_test, y_pred, average='weighted'))\n",
        "print(\"\\nClassification Report:\")\n",
        "print(classification_report(y_test, y_pred))"
      ],
      "metadata": {
        "colab": {
          "base_uri": "https://localhost:8080/"
        },
        "id": "8jn9s_7O59l6",
        "outputId": "37f7e547-3c2c-40d8-b841-c35e537aa658"
      },
      "execution_count": null,
      "outputs": [
        {
          "output_type": "stream",
          "name": "stdout",
          "text": [
            "Accuracy: 0.4742857142857143\n",
            "F1 Score: 0.4118827898747333\n",
            "Precision: 0.3967660208414926\n",
            "Recall: 0.4742857142857143\n",
            "\n",
            "Classification Report:\n",
            "                 precision    recall  f1-score   support\n",
            "\n",
            "Kind of Popular       0.34      0.18      0.24       290\n",
            "    Not Popular       0.52      0.78      0.63       460\n",
            "        Popular       0.07      0.02      0.03       112\n",
            "   Very Popular       0.00      0.00      0.00        13\n",
            "\n",
            "       accuracy                           0.47       875\n",
            "      macro avg       0.23      0.25      0.22       875\n",
            "   weighted avg       0.40      0.47      0.41       875\n",
            "\n"
          ]
        }
      ]
    },
    {
      "cell_type": "markdown",
      "source": [
        "**applying KNN**"
      ],
      "metadata": {
        "id": "pPkhAyG06MWH"
      }
    },
    {
      "cell_type": "code",
      "source": [
        "model = KNeighborsClassifier()\n",
        "model.fit(X_train, y_train)\n",
        "y_pred = model.predict(X_test)\n",
        "print(\"Accuracy:\", accuracy_score(y_test, y_pred))\n",
        "print(\"F1 Score:\", f1_score(y_test, y_pred, average='weighted'))\n",
        "print(\"Precision:\", precision_score(y_test, y_pred, average='weighted'))\n",
        "print(\"Recall:\", recall_score(y_test, y_pred, average='weighted'))\n",
        "print(\"\\nClassification Report:\")\n",
        "print(classification_report(y_test, y_pred))"
      ],
      "metadata": {
        "colab": {
          "base_uri": "https://localhost:8080/"
        },
        "id": "0xAYUyeE6Li-",
        "outputId": "f220f947-e5a9-49d9-d80a-edcab5d72690"
      },
      "execution_count": null,
      "outputs": [
        {
          "output_type": "stream",
          "name": "stdout",
          "text": [
            "Accuracy: 0.48228571428571426\n",
            "F1 Score: 0.4471305147834975\n",
            "Precision: 0.43251765778081563\n",
            "Recall: 0.48228571428571426\n",
            "\n",
            "Classification Report:\n",
            "                 precision    recall  f1-score   support\n",
            "\n",
            "Kind of Popular       0.38      0.37      0.37       290\n",
            "    Not Popular       0.55      0.68      0.60       460\n",
            "        Popular       0.17      0.03      0.05       112\n",
            "   Very Popular       0.00      0.00      0.00        13\n",
            "\n",
            "       accuracy                           0.48       875\n",
            "      macro avg       0.27      0.27      0.26       875\n",
            "   weighted avg       0.43      0.48      0.45       875\n",
            "\n"
          ]
        },
        {
          "output_type": "stream",
          "name": "stderr",
          "text": [
            "/usr/local/lib/python3.10/dist-packages/sklearn/metrics/_classification.py:1344: UndefinedMetricWarning: Precision is ill-defined and being set to 0.0 in labels with no predicted samples. Use `zero_division` parameter to control this behavior.\n",
            "  _warn_prf(average, modifier, msg_start, len(result))\n",
            "/usr/local/lib/python3.10/dist-packages/sklearn/metrics/_classification.py:1344: UndefinedMetricWarning: Precision and F-score are ill-defined and being set to 0.0 in labels with no predicted samples. Use `zero_division` parameter to control this behavior.\n",
            "  _warn_prf(average, modifier, msg_start, len(result))\n",
            "/usr/local/lib/python3.10/dist-packages/sklearn/metrics/_classification.py:1344: UndefinedMetricWarning: Precision and F-score are ill-defined and being set to 0.0 in labels with no predicted samples. Use `zero_division` parameter to control this behavior.\n",
            "  _warn_prf(average, modifier, msg_start, len(result))\n",
            "/usr/local/lib/python3.10/dist-packages/sklearn/metrics/_classification.py:1344: UndefinedMetricWarning: Precision and F-score are ill-defined and being set to 0.0 in labels with no predicted samples. Use `zero_division` parameter to control this behavior.\n",
            "  _warn_prf(average, modifier, msg_start, len(result))\n"
          ]
        }
      ]
    },
    {
      "cell_type": "markdown",
      "source": [
        "**applying SVC**"
      ],
      "metadata": {
        "id": "cFu4Mt0a6iXe"
      }
    },
    {
      "cell_type": "code",
      "source": [
        "model = SVC()\n",
        "model.fit(X_train, y_train)\n",
        "y_pred = model.predict(X_test)\n",
        "print(\"Accuracy:\", accuracy_score(y_test, y_pred))\n",
        "print(\"F1 Score:\", f1_score(y_test, y_pred, average='weighted'))\n",
        "print(\"Precision:\", precision_score(y_test, y_pred, average='weighted'))\n",
        "print(\"Recall:\", recall_score(y_test, y_pred, average='weighted'))\n",
        "print(\"\\nClassification Report:\")\n",
        "print(classification_report(y_test, y_pred))"
      ],
      "metadata": {
        "colab": {
          "base_uri": "https://localhost:8080/"
        },
        "id": "94EV7x426kew",
        "outputId": "3da75954-c95e-4d29-eb9a-6c7a09735bb5"
      },
      "execution_count": null,
      "outputs": [
        {
          "output_type": "stream",
          "name": "stdout",
          "text": [
            "Accuracy: 0.5291428571428571\n",
            "F1 Score: 0.3775387178689364\n",
            "Precision: 0.4883694083694084\n",
            "Recall: 0.5291428571428571\n",
            "\n",
            "Classification Report:\n",
            "                 precision    recall  f1-score   support\n",
            "\n",
            "Kind of Popular       0.64      0.02      0.05       290\n",
            "    Not Popular       0.53      0.99      0.69       460\n",
            "        Popular       0.00      0.00      0.00       112\n",
            "   Very Popular       0.00      0.00      0.00        13\n",
            "\n",
            "       accuracy                           0.53       875\n",
            "      macro avg       0.29      0.25      0.18       875\n",
            "   weighted avg       0.49      0.53      0.38       875\n",
            "\n"
          ]
        },
        {
          "output_type": "stream",
          "name": "stderr",
          "text": [
            "/usr/local/lib/python3.10/dist-packages/sklearn/metrics/_classification.py:1344: UndefinedMetricWarning: Precision is ill-defined and being set to 0.0 in labels with no predicted samples. Use `zero_division` parameter to control this behavior.\n",
            "  _warn_prf(average, modifier, msg_start, len(result))\n",
            "/usr/local/lib/python3.10/dist-packages/sklearn/metrics/_classification.py:1344: UndefinedMetricWarning: Precision and F-score are ill-defined and being set to 0.0 in labels with no predicted samples. Use `zero_division` parameter to control this behavior.\n",
            "  _warn_prf(average, modifier, msg_start, len(result))\n",
            "/usr/local/lib/python3.10/dist-packages/sklearn/metrics/_classification.py:1344: UndefinedMetricWarning: Precision and F-score are ill-defined and being set to 0.0 in labels with no predicted samples. Use `zero_division` parameter to control this behavior.\n",
            "  _warn_prf(average, modifier, msg_start, len(result))\n",
            "/usr/local/lib/python3.10/dist-packages/sklearn/metrics/_classification.py:1344: UndefinedMetricWarning: Precision and F-score are ill-defined and being set to 0.0 in labels with no predicted samples. Use `zero_division` parameter to control this behavior.\n",
            "  _warn_prf(average, modifier, msg_start, len(result))\n"
          ]
        }
      ]
    },
    {
      "cell_type": "markdown",
      "source": [
        "**applying naive bayes**"
      ],
      "metadata": {
        "id": "rffxbQyZ7JIF"
      }
    },
    {
      "cell_type": "code",
      "source": [
        "model = GaussianNB()\n",
        "model.fit(X_train, y_train)\n",
        "y_pred = model.predict(X_test)\n",
        "print(\"Accuracy:\", accuracy_score(y_test, y_pred))\n",
        "print(\"F1 Score:\", f1_score(y_test, y_pred, average='weighted'))\n",
        "print(\"Precision:\", precision_score(y_test, y_pred, average='weighted'))\n",
        "print(\"Recall:\", recall_score(y_test, y_pred, average='weighted'))\n",
        "print(\"\\nClassification Report:\")\n",
        "print(classification_report(y_test, y_pred))"
      ],
      "metadata": {
        "colab": {
          "base_uri": "https://localhost:8080/"
        },
        "id": "gaZdfGqB7L1Z",
        "outputId": "8cca9075-1226-4fbd-96bc-a195b86bc356"
      },
      "execution_count": null,
      "outputs": [
        {
          "output_type": "stream",
          "name": "stdout",
          "text": [
            "Accuracy: 0.046857142857142854\n",
            "F1 Score: 0.04281627920326045\n",
            "Precision: 0.550419726974156\n",
            "Recall: 0.046857142857142854\n",
            "\n",
            "Classification Report:\n",
            "                 precision    recall  f1-score   support\n",
            "\n",
            "Kind of Popular       0.43      0.03      0.06       290\n",
            "    Not Popular       0.75      0.01      0.01       460\n",
            "        Popular       0.09      0.14      0.11       112\n",
            "   Very Popular       0.02      0.92      0.03        13\n",
            "\n",
            "       accuracy                           0.05       875\n",
            "      macro avg       0.32      0.28      0.06       875\n",
            "   weighted avg       0.55      0.05      0.04       875\n",
            "\n"
          ]
        }
      ]
    },
    {
      "cell_type": "markdown",
      "source": [
        "**applying decision tree classifier**"
      ],
      "metadata": {
        "id": "hYwU2VXV7YmZ"
      }
    },
    {
      "cell_type": "code",
      "source": [
        "model = DecisionTreeClassifier(random_state = 43)\n",
        "model.fit(X_train, y_train)\n",
        "y_pred = model.predict(X_test)\n",
        "print(\"Accuracy:\", accuracy_score(y_test, y_pred))\n",
        "print(\"F1 Score:\", f1_score(y_test, y_pred, average='weighted'))\n",
        "print(\"Precision:\", precision_score(y_test, y_pred, average='weighted'))\n",
        "print(\"Recall:\", recall_score(y_test, y_pred, average='weighted'))\n",
        "print(\"\\nClassification Report:\")\n",
        "print(classification_report(y_test, y_pred))"
      ],
      "metadata": {
        "colab": {
          "base_uri": "https://localhost:8080/"
        },
        "id": "YjRZ8N5v7cSi",
        "outputId": "b6e81b5f-494c-4546-fe64-76052785f068"
      },
      "execution_count": null,
      "outputs": [
        {
          "output_type": "stream",
          "name": "stdout",
          "text": [
            "Accuracy: 0.48\n",
            "F1 Score: 0.4253722142105123\n",
            "Precision: 0.40371320346320344\n",
            "Recall: 0.48\n",
            "\n",
            "Classification Report:\n",
            "                 precision    recall  f1-score   support\n",
            "\n",
            "Kind of Popular       0.36      0.24      0.29       290\n",
            "    Not Popular       0.53      0.76      0.62       460\n",
            "        Popular       0.05      0.01      0.01       112\n",
            "   Very Popular       0.00      0.00      0.00        13\n",
            "\n",
            "       accuracy                           0.48       875\n",
            "      macro avg       0.23      0.25      0.23       875\n",
            "   weighted avg       0.40      0.48      0.43       875\n",
            "\n"
          ]
        }
      ]
    },
    {
      "cell_type": "markdown",
      "source": [
        "**applying XGboost classifier**"
      ],
      "metadata": {
        "id": "UtUFzlw86sAP"
      }
    },
    {
      "cell_type": "code",
      "source": [
        "le = LabelEncoder()\n",
        "y = le.fit_transform(df['popularity'])\n",
        "X_train, X_test, y_train, y_test = train_test_split(X, y, test_size=0.2, random_state=42)\n",
        "model = XGBClassifier(random_state=43, n_estimators=100, learning_rate=0.1, max_depth=6)\n",
        "model.fit(X_train, y_train)\n",
        "y_pred = model.predict(X_test)\n",
        "print(\"Accuracy:\", accuracy_score(y_test, y_pred))\n",
        "print(\"F1 Score:\", f1_score(y_test, y_pred, average='weighted'))\n",
        "print(\"Precision:\", precision_score(y_test, y_pred, average='weighted'))\n",
        "print(\"Recall:\", recall_score(y_test, y_pred, average='weighted'))\n",
        "print(\"\\nClassification Report:\")\n",
        "print(classification_report(y_test, y_pred))"
      ],
      "metadata": {
        "colab": {
          "base_uri": "https://localhost:8080/"
        },
        "id": "vlXPmpDc6wAf",
        "outputId": "cda43d14-0f30-40bf-eb1b-b590a4e91b88"
      },
      "execution_count": null,
      "outputs": [
        {
          "output_type": "stream",
          "name": "stdout",
          "text": [
            "Accuracy: 0.5028571428571429\n",
            "F1 Score: 0.416048746371327\n",
            "Precision: 0.4025875444834056\n",
            "Recall: 0.5028571428571429\n",
            "\n",
            "Classification Report:\n",
            "              precision    recall  f1-score   support\n",
            "\n",
            "           0       0.38      0.15      0.22       290\n",
            "           1       0.53      0.86      0.66       460\n",
            "           2       0.00      0.00      0.00       112\n",
            "           3       0.00      0.00      0.00        13\n",
            "\n",
            "    accuracy                           0.50       875\n",
            "   macro avg       0.23      0.25      0.22       875\n",
            "weighted avg       0.40      0.50      0.42       875\n",
            "\n"
          ]
        },
        {
          "output_type": "stream",
          "name": "stderr",
          "text": [
            "/usr/local/lib/python3.10/dist-packages/sklearn/metrics/_classification.py:1344: UndefinedMetricWarning: Precision is ill-defined and being set to 0.0 in labels with no predicted samples. Use `zero_division` parameter to control this behavior.\n",
            "  _warn_prf(average, modifier, msg_start, len(result))\n",
            "/usr/local/lib/python3.10/dist-packages/sklearn/metrics/_classification.py:1344: UndefinedMetricWarning: Precision and F-score are ill-defined and being set to 0.0 in labels with no predicted samples. Use `zero_division` parameter to control this behavior.\n",
            "  _warn_prf(average, modifier, msg_start, len(result))\n",
            "/usr/local/lib/python3.10/dist-packages/sklearn/metrics/_classification.py:1344: UndefinedMetricWarning: Precision and F-score are ill-defined and being set to 0.0 in labels with no predicted samples. Use `zero_division` parameter to control this behavior.\n",
            "  _warn_prf(average, modifier, msg_start, len(result))\n",
            "/usr/local/lib/python3.10/dist-packages/sklearn/metrics/_classification.py:1344: UndefinedMetricWarning: Precision and F-score are ill-defined and being set to 0.0 in labels with no predicted samples. Use `zero_division` parameter to control this behavior.\n",
            "  _warn_prf(average, modifier, msg_start, len(result))\n"
          ]
        }
      ]
    },
    {
      "cell_type": "markdown",
      "source": [
        "**comparing algos**"
      ],
      "metadata": {
        "id": "URtRl7el87_D"
      }
    },
    {
      "cell_type": "code",
      "source": [
        "results = {\n",
        "    'Logistic Regression': {'accuracy': 0.52, 'f1_score': 0.373, 'precision': 0.386, 'recall': 0.52},\n",
        "    'Random Forest': {'accuracy': 0.474, 'f1_score': 0.4118, 'precision': 0.396, 'recall': 0.474},\n",
        "    'K-Nearest Neighbors': {'accuracy': 0.48, 'f1_score': 0.447, 'precision': 0.432, 'recall': 0.482},\n",
        "    'Support Vector Machine': {'accuracy': 0.529, 'f1_score': 0.377, 'precision': 0.488, 'recall': 0.529},\n",
        "    'Naive Bayes': {'accuracy': 0.0468, 'f1_score': 0.0428, 'precision': 0.550, 'recall': 0.0468},\n",
        "    'Decision Tree': {'accuracy': 0.48, 'f1_score': 0.425, 'precision': 0.4037, 'recall': 0.48},\n",
        "    'XGBoost': {'accuracy': 0.5028, 'f1_score': 0.416, 'precision': 0.4025, 'recall': 0.5028},\n",
        "}\n",
        "\n",
        "df_results = pd.DataFrame(results).T\n",
        "df_long = df_results.reset_index().melt(id_vars='index', value_vars=['accuracy', 'f1_score', 'precision', 'recall'], var_name='metric', value_name='score')\n",
        "df_long.rename(columns={'index': 'algorithm'}, inplace=True)\n",
        "sns.set_palette('viridis')\n",
        "plt.figure(figsize=(12, 6))\n",
        "sns.barplot(x='algorithm', y='score', hue='metric', data=df_long)\n",
        "plt.title('Comparison of Different Measures for Each Algorithm')\n",
        "plt.xlabel('Algorithm')\n",
        "plt.ylabel('Score')\n",
        "plt.xticks(rotation=45, ha='right')\n",
        "plt.show()"
      ],
      "metadata": {
        "colab": {
          "base_uri": "https://localhost:8080/",
          "height": 677
        },
        "id": "Y8_9I0FM8-le",
        "outputId": "cffbeadf-f917-4bbb-ccc8-7966ba55007e"
      },
      "execution_count": null,
      "outputs": [
        {
          "output_type": "display_data",
          "data": {
            "text/plain": [
              "<Figure size 1200x600 with 1 Axes>"
            ],
            "image/png": "[encoded data removed]"
          },
          "metadata": {}
        }
      ]
    }
  ]
}