{
  "nbformat": 4,
  "nbformat_minor": 0,
  "metadata": {
    "colab": {
      "provenance": []
    },
    "kernelspec": {
      "name": "python3",
      "display_name": "Python 3"
    },
    "language_info": {
      "name": "python"
    }
  },
  "cells": [
    {
      "cell_type": "markdown",
      "source": [
        "# **importing libraries and connecting to datasets**"
      ],
      "metadata": {
        "id": "iVIksvK7VrH0"
      }
    },
    {
      "cell_type": "code",
      "execution_count": 3,
      "metadata": {
        "id": "w2Ww1u0-Ue_J"
      },
      "outputs": [],
      "source": [
        "import pandas as pd\n",
        "import matplotlib.pyplot as plt\n",
        "import numpy as np\n",
        "from sklearn.model_selection import train_test_split\n",
        "from sklearn.linear_model import LinearRegression\n",
        "from sklearn.ensemble import RandomForestRegressor\n",
        "from sklearn.neighbors import KNeighborsRegressor\n",
        "from sklearn.svm import SVR\n",
        "from sklearn.metrics import mean_squared_error, r2_score\n",
        "from sklearn.model_selection import train_test_split, cross_val_score, KFold\n",
        "import seaborn as sns\n",
        "file_path = '/content/data(raw audio features).csv'\n",
        "data = pd.read_csv(file_path)"
      ]
    },
    {
      "cell_type": "markdown",
      "source": [
        "# **DATA PREPROCESSING**"
      ],
      "metadata": {
        "id": "tWBw1QVKV4nf"
      }
    },
    {
      "cell_type": "markdown",
      "source": [
        "**danceability categorization  **\n",
        "\n",
        "*   no-dance(0.0–0.49)\n",
        "*   mid-dance (0.5–0.69)\n",
        "*   high-dance (0.70–1.0)\n",
        "\n",
        "\n",
        "\n",
        "\n",
        "\n",
        "\n"
      ],
      "metadata": {
        "id": "hL5dTRbGV8KV"
      }
    },
    {
      "cell_type": "code",
      "source": [
        "def categorize_danceability(danceability):\n",
        "    if danceability < 0.5:\n",
        "        return 'No-dance'\n",
        "    elif 0.5 <= danceability < 0.7:\n",
        "        return 'Mid-dance'\n",
        "    elif 0.7 <= danceability < 1.0:\n",
        "        return 'High-dance'\n",
        "\n",
        "df = pd.read_csv('/content/data(raw audio features).csv')\n",
        "\n",
        "df['danceability'] = df['danceability'].apply(categorize_danceability)\n",
        "\n",
        "df.to_csv('SBT_categorized_dataset.csv',index=False)\n"
      ],
      "metadata": {
        "id": "SLrq1QokWePH"
      },
      "execution_count": 4,
      "outputs": []
    },
    {
      "cell_type": "markdown",
      "source": [
        "**energy categorization  **\n",
        "\n",
        "*   high-energy (0.0–0.49)\n",
        "*   low-dance (0.5–1.0)\n"
      ],
      "metadata": {
        "id": "zp_fuigCW75t"
      }
    },
    {
      "cell_type": "code",
      "source": [
        "def categorize_energy(energy):\n",
        "    if energy < 0.5:\n",
        "        return 'Low Energy'\n",
        "    else:\n",
        "        return 'High Energy'\n",
        "\n",
        "df = pd.read_csv('/content/SBT_categorized_dataset.csv')\n",
        "\n",
        "df['energy'] = df['energy'].apply(categorize_energy)\n",
        "\n",
        "df.to_csv('SBT_categorized_dataset.csv',index=False)"
      ],
      "metadata": {
        "id": "zM5e0xWuXImq"
      },
      "execution_count": 5,
      "outputs": []
    },
    {
      "cell_type": "markdown",
      "source": [
        "**key categorization  **\n",
        "\n",
        "*   enharmonic keys [has no unique name]  (1, 3, 6, 8, 10)\n",
        "*   non-enharmonic keys [has unique name]  (0, 2, 4, 5, 7, 9, 11)\n",
        "*   unknown (-1)\n"
      ],
      "metadata": {
        "id": "9_0PplnwXYgI"
      }
    },
    {
      "cell_type": "code",
      "source": [
        "def categorize_key(key):\n",
        "    if key == -1:\n",
        "        return 'Unknown'\n",
        "    elif key == 1  or key == 3 or key == 6 or key == 8 or key == 10:\n",
        "        return 'Enharmonic'\n",
        "    else:\n",
        "        return 'Non-enharmonic'\n",
        "\n",
        "\n",
        "df = pd.read_csv('/content/SBT_categorized_dataset.csv')\n",
        "\n",
        "df['key'] = df['key'].apply(categorize_key)\n",
        "\n",
        "df.to_csv('SBT_categorized_dataset.csv',index=False)"
      ],
      "metadata": {
        "id": "nZ2WebVlX3Um"
      },
      "execution_count": 6,
      "outputs": []
    },
    {
      "cell_type": "markdown",
      "source": [
        "**loudness categorization  **\n",
        "\n",
        "*   loud (-11 or upper)\n",
        "*   normal (-14 to -12)\n",
        "*   unknown (-15 or lower)\n",
        "\n"
      ],
      "metadata": {
        "id": "fXS3dHHjYCWw"
      }
    },
    {
      "cell_type": "code",
      "source": [
        "def categorize_loudness(loudness):\n",
        "    if loudness >= -11:\n",
        "        return 'Loud'\n",
        "    elif loudness >= -14:\n",
        "        return 'Normal'\n",
        "    else:\n",
        "        return 'Quiet'\n",
        "\n",
        "\n",
        "df = pd.read_csv('/content/SBT_categorized_dataset.csv')\n",
        "\n",
        "df['loudness'] = df['loudness'].apply(categorize_loudness)\n",
        "\n",
        "df.to_csv('SBT_categorized_dataset.csv',index=False)"
      ],
      "metadata": {
        "id": "BpmGwaqTYbay"
      },
      "execution_count": 7,
      "outputs": []
    },
    {
      "cell_type": "markdown",
      "source": [
        "**speechiness categorization  **\n",
        "\n",
        "*   no speech (0 - 0.33)\n",
        "*   mixed (0.34 - 0.66)\n",
        "*   speech (0.67 to 1.0)"
      ],
      "metadata": {
        "id": "eWnneYMFYqvo"
      }
    },
    {
      "cell_type": "code",
      "source": [
        "df = pd.read_csv('/content/SBT_categorized_dataset.csv')\n",
        "bins = [0, 0.33, 0.66, 1]\n",
        "labels = ['No Speech', 'Mixed', 'Speech']\n",
        "df['speechiness'] = pd.cut(df['speechiness'], bins=bins, labels=labels, right=False)\n",
        "df.to_csv('SBT_categorized_dataset.csv', index=False)"
      ],
      "metadata": {
        "id": "JSRbsNZPZFos"
      },
      "execution_count": 8,
      "outputs": []
    },
    {
      "cell_type": "markdown",
      "source": [
        "**acousticness categorization  **\n",
        "\n",
        "*   non-acoustic (0 - 0.5)\n",
        "*   acoustic (0.51 - 1.0)"
      ],
      "metadata": {
        "id": "KzFuP5YLZk7D"
      }
    },
    {
      "cell_type": "code",
      "source": [
        "bins = [0, 0.5, 1]\n",
        "labels = ['Non-Acoustic', 'Acoustic']\n",
        "df = pd.read_csv('/content/SBT_categorized_dataset.csv')\n",
        "df['acousticness'] = pd.cut(df['acousticness'], bins=bins, labels=labels, right=False)\n",
        "df.to_csv('SBT_categorized_dataset.csv', index=False)"
      ],
      "metadata": {
        "id": "Tch-6ZI5aA_R"
      },
      "execution_count": 9,
      "outputs": []
    },
    {
      "cell_type": "markdown",
      "source": [
        "**instrumentalness categorization  **\n",
        "\n",
        "*   vocal (0 - 0.5)\n",
        "*   instrumental (0.51 - 1.0)"
      ],
      "metadata": {
        "id": "un7vj98xa2LZ"
      }
    },
    {
      "cell_type": "code",
      "source": [
        "bins = [0, 0.5, 1]\n",
        "labels = ['Vocal', 'Instrumental']\n",
        "df = pd.read_csv('/content/SBT_categorized_dataset.csv')\n",
        "df['instrumentalness'] = pd.cut(df['instrumentalness'], bins=bins, labels=labels, right=False)\n",
        "df.to_csv('SBT_categorized_dataset.csv', index=False)\n"
      ],
      "metadata": {
        "id": "QQHOF1C_bBlH"
      },
      "execution_count": 10,
      "outputs": []
    },
    {
      "cell_type": "markdown",
      "source": [
        "**liveness categorization  **\n",
        "\n",
        "*   recorded (0 - 0.79)\n",
        "*   live (**0.8** - 1.0)"
      ],
      "metadata": {
        "id": "Yw3iV9rQbxUJ"
      }
    },
    {
      "cell_type": "code",
      "source": [
        "def categorize_liveness(liveness):\n",
        "    if liveness < 0.8:\n",
        "        return 'Recorded'\n",
        "    else:\n",
        "        return 'Live'\n",
        "\n",
        "df = pd.read_csv('/content/SBT_categorized_dataset.csv')\n",
        "\n",
        "df['liveness'] = df['liveness'].apply(categorize_liveness)\n",
        "\n",
        "df.to_csv('SBT_categorized_dataset.csv',index=False)"
      ],
      "metadata": {
        "id": "b7Qpz27Yb7ex"
      },
      "execution_count": 11,
      "outputs": []
    },
    {
      "cell_type": "markdown",
      "source": [
        "**valence categorization  **\n",
        "\n",
        "*   Negative (0 - 0.5)\n",
        "*   Positive (0.51 - 1.0)"
      ],
      "metadata": {
        "id": "ub5PcjH1cWdI"
      }
    },
    {
      "cell_type": "code",
      "source": [
        "def categorize_valence(valence):\n",
        "    if valence <= 0.5:\n",
        "        return 'Negative'\n",
        "    else:\n",
        "        return 'Positive'\n",
        "\n",
        "df = pd.read_csv('/content/SBT_categorized_dataset.csv')\n",
        "\n",
        "df['valence'] = df['valence'].apply(categorize_valence)\n",
        "\n",
        "df.to_csv('SBT_categorized_dataset.csv',index=False)"
      ],
      "metadata": {
        "id": "JNUwxo3ncoDK"
      },
      "execution_count": 12,
      "outputs": []
    },
    {
      "cell_type": "markdown",
      "source": [
        "**tempo categorization  **\n",
        "\n",
        "*   slow (0 - 110)\n",
        "*   medium (110 - 140)\n",
        "*   fast (140 - inf)\n"
      ],
      "metadata": {
        "id": "u3BE5KCZcxRA"
      }
    },
    {
      "cell_type": "code",
      "source": [
        "def categorize_tempo(tempo):\n",
        "    if tempo < 110:\n",
        "        return 'Slow'\n",
        "    elif tempo > 140:\n",
        "        return 'Fast'\n",
        "    else:\n",
        "        return 'Medium'\n",
        "\n",
        "df = pd.read_csv('/content/SBT_categorized_dataset.csv')\n",
        "\n",
        "df['tempo'] = df['tempo'].apply(categorize_tempo)\n",
        "\n",
        "df.to_csv('SBT_categorized_dataset.csv',index=False)"
      ],
      "metadata": {
        "id": "QxGicuBedJOQ"
      },
      "execution_count": 13,
      "outputs": []
    },
    {
      "cell_type": "markdown",
      "source": [
        "**duration categorization  **\n",
        "\n",
        "*   short ( < 3 mins)\n",
        "*   medium (3  - 6 mins)\n",
        "*   fast ( > 6 mins )"
      ],
      "metadata": {
        "id": "3gDcorB0dTV8"
      }
    },
    {
      "cell_type": "code",
      "source": [
        "def categorize_duration(duration):\n",
        "    if duration < 180:\n",
        "        return 'Short'\n",
        "    elif duration > 360:\n",
        "        return 'Long'\n",
        "    else:\n",
        "        return 'Medium'\n",
        "\n",
        "df = pd.read_csv('/content/SBT_categorized_dataset.csv')\n",
        "\n",
        "df['duration'] = df['duration'].apply(categorize_duration)\n",
        "\n",
        "df.to_csv('SBT_categorized_dataset.csv',index=False)"
      ],
      "metadata": {
        "id": "ZaOpidMRdsiR"
      },
      "execution_count": 14,
      "outputs": []
    },
    {
      "cell_type": "markdown",
      "source": [
        "**time_signature categorization  **\n",
        "\n",
        "*   simple (0 - 4)\n",
        "*   complex (5 - 7)\n",
        "*   compound (> 7)"
      ],
      "metadata": {
        "id": "sqmc-h6gdxYR"
      }
    },
    {
      "cell_type": "code",
      "source": [
        "def categorize_time_signature(time_signature):\n",
        "    if time_signature <= 4:\n",
        "        return 'Simple'\n",
        "    elif time_signature > 7:\n",
        "        return 'Compound'\n",
        "    else:\n",
        "        return 'Complex'\n",
        "\n",
        "df = pd.read_csv('/content/SBT_categorized_dataset.csv')\n",
        "\n",
        "df['time_signature'] = df['time_signature'].apply(categorize_time_signature)\n",
        "\n",
        "df.to_csv('SBT_categorized_dataset.csv',index=False)"
      ],
      "metadata": {
        "id": "pUFXAolVeNmq"
      },
      "execution_count": 15,
      "outputs": []
    },
    {
      "cell_type": "markdown",
      "source": [
        "**popularity (target-class) categorization  **\n",
        "\n",
        "*   not popular (0 - 10)\n",
        "*   kind of popular (11 - 30)\n",
        "*   popular (31 - 50)\n",
        "*   very popular (51 - 100)"
      ],
      "metadata": {
        "id": "axJYHsM8eWWh"
      }
    },
    {
      "cell_type": "code",
      "source": [
        "def categorize_popularity(popularity):\n",
        "    if popularity <= 10:\n",
        "        return 'Not Popular'\n",
        "    elif 10 < popularity <= 30:\n",
        "        return 'Kind of Popular'\n",
        "    elif 30 < popularity <= 50:\n",
        "        return 'Popular'\n",
        "    else:\n",
        "        return 'Very Popular'\n",
        "\n",
        "df = pd.read_csv('/content/SBT_categorized_dataset.csv')\n",
        "\n",
        "df['popularity'] = df['popularity'].apply(categorize_popularity)\n",
        "\n",
        "df.to_csv('SBT_categorized_dataset.csv',index=False)\n",
        "print(df)"
      ],
      "metadata": {
        "colab": {
          "base_uri": "https://localhost:8080/"
        },
        "id": "JkzaBVZheuBO",
        "outputId": "0b16a568-5152-4fd8-a7c5-72966da1a390"
      },
      "execution_count": 16,
      "outputs": [
        {
          "output_type": "stream",
          "name": "stdout",
          "text": [
            "                          id  \\\n",
            "0     02LJdBgyfq01WtSX05OJkc   \n",
            "1     036Q1Xb7IMzavuIjbSU2aX   \n",
            "2     04K08nBMizx2UQeZ4hDUQp   \n",
            "3     06f2IXt2LBVrQzfFBtRw21   \n",
            "4     06k6GyUDtvIgLb4YQftb9G   \n",
            "...                      ...   \n",
            "4370  4JMjmRjR0uerSpKoGEKw6H   \n",
            "4371  48OAF0hmO4xnT1mxsiLnCH   \n",
            "4372  1iZZZ4UGy2dbiSmBNYjuzp   \n",
            "4373  10E9stuJcJeAXxY78SmfqA   \n",
            "4374  7ElrqGZwPUvZpuHdPQRWQQ   \n",
            "\n",
            "                                                  title                artist  \\\n",
            "0                  Jalsaghar - Adrishyo Nagordolar Trip            Anupam Roy   \n",
            "1                                             Noishobdo           Bangla Five   \n",
            "2                                                Janina               Sovvota   \n",
            "3                                      Ekhane Poth Amar               Sovvota   \n",
            "4                                          Na Bola Phul               Meghdol   \n",
            "...                                                 ...                   ...   \n",
            "4370                         Bhaba Sagar Taran Karan He   Mahesh Ranjan Shome   \n",
            "4371                                         Kalo Meyer       Suvankar Vaskar   \n",
            "4372                            Khandana Bhaba Bandhana  Shankar Prasad Shome   \n",
            "4373  Shankha Bajiye Make Eso Ma Lakshmi Baso Ghare ...     Sandhya Mukherjee   \n",
            "4374                                Bhava Sagara Tarana     Uma Nivedita Basu   \n",
            "\n",
            "           popularity  year danceability       energy             key  \\\n",
            "0     Kind of Popular  2023    Mid-dance   Low Energy      Enharmonic   \n",
            "1         Not Popular  2022    Mid-dance   Low Energy  Non-enharmonic   \n",
            "2         Not Popular  2017    Mid-dance   Low Energy  Non-enharmonic   \n",
            "3         Not Popular  2017     No-dance  High Energy  Non-enharmonic   \n",
            "4     Kind of Popular  2019    Mid-dance   Low Energy  Non-enharmonic   \n",
            "...               ...   ...          ...          ...             ...   \n",
            "4370  Kind of Popular  2009     No-dance  High Energy      Enharmonic   \n",
            "4371  Kind of Popular  2009     No-dance  High Energy      Enharmonic   \n",
            "4372  Kind of Popular  2009     No-dance  High Energy      Enharmonic   \n",
            "4373  Kind of Popular  2009    Mid-dance   Low Energy  Non-enharmonic   \n",
            "4374      Not Popular  2009    Mid-dance  High Energy      Enharmonic   \n",
            "\n",
            "     loudness speechiness  acousticness instrumentalness  liveness   valence  \\\n",
            "0        Loud   No Speech      Acoustic            Vocal  Recorded  Negative   \n",
            "1      Normal   No Speech  Non-Acoustic            Vocal  Recorded  Negative   \n",
            "2       Quiet   No Speech      Acoustic            Vocal  Recorded  Negative   \n",
            "3      Normal   No Speech  Non-Acoustic            Vocal  Recorded  Positive   \n",
            "4       Quiet   No Speech      Acoustic            Vocal  Recorded  Positive   \n",
            "...       ...         ...           ...              ...       ...       ...   \n",
            "4370     Loud   No Speech      Acoustic            Vocal  Recorded  Negative   \n",
            "4371     Loud   No Speech      Acoustic            Vocal  Recorded  Negative   \n",
            "4372     Loud   No Speech  Non-Acoustic            Vocal  Recorded  Negative   \n",
            "4373    Quiet   No Speech      Acoustic            Vocal  Recorded  Positive   \n",
            "4374     Loud   No Speech      Acoustic            Vocal  Recorded  Negative   \n",
            "\n",
            "       tempo duration time_signature  \n",
            "0       Fast   Medium         Simple  \n",
            "1     Medium   Medium         Simple  \n",
            "2       Slow   Medium         Simple  \n",
            "3       Fast   Medium         Simple  \n",
            "4       Slow   Medium         Simple  \n",
            "...      ...      ...            ...  \n",
            "4370    Fast     Long         Simple  \n",
            "4371    Fast   Medium         Simple  \n",
            "4372    Slow     Long         Simple  \n",
            "4373    Fast   Medium         Simple  \n",
            "4374  Medium     Long         Simple  \n",
            "\n",
            "[4375 rows x 17 columns]\n"
          ]
        }
      ]
    }
  ]
}